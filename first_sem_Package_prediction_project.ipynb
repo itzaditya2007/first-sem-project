{
  "nbformat": 4,
  "nbformat_minor": 0,
  "metadata": {
    "colab": {
      "provenance": [],
      "toc_visible": true,
      "include_colab_link": true
    },
    "kernelspec": {
      "name": "python3",
      "display_name": "Python 3"
    },
    "language_info": {
      "name": "python"
    }
  },
  "cells": [
    {
      "cell_type": "markdown",
      "metadata": {
        "id": "view-in-github",
        "colab_type": "text"
      },
      "source": [
        "<a href=\"https://colab.research.google.com/github/itzaditya2007/first-sem-project/blob/main/first_sem_Package_prediction_project.ipynb\" target=\"_parent\"><img src=\"https://colab.research.google.com/assets/colab-badge.svg\" alt=\"Open In Colab\"/></a>"
      ]
    },
    {
      "cell_type": "markdown",
      "source": [
        "#Import library"
      ],
      "metadata": {
        "id": "dtlCO4NJ5nUB"
      }
    },
    {
      "cell_type": "code",
      "source": [
        "from google.colab import drive\n",
        "drive.mount('/content/drive')"
      ],
      "metadata": {
        "id": "LXbaqz4UukIX",
        "colab": {
          "base_uri": "https://localhost:8080/"
        },
        "outputId": "dea376bf-8b67-4d5a-cffa-6ca3e29b2cae"
      },
      "execution_count": 20,
      "outputs": [
        {
          "output_type": "stream",
          "name": "stdout",
          "text": [
            "Drive already mounted at /content/drive; to attempt to forcibly remount, call drive.mount(\"/content/drive\", force_remount=True).\n"
          ]
        }
      ]
    },
    {
      "cell_type": "code",
      "execution_count": 17,
      "metadata": {
        "id": "vswUYGlGjcvs"
      },
      "outputs": [],
      "source": [
        "#import library\n",
        "import pandas as pd\n",
        "import matplotlib.pyplot as plt\n",
        "import seaborn as sns"
      ]
    },
    {
      "cell_type": "markdown",
      "source": [
        "#Import the data"
      ],
      "metadata": {
        "id": "8orYIU3L5sOE"
      }
    },
    {
      "cell_type": "code",
      "source": [
        "df = pd.read_csv(\"/content/drive/MyDrive/data/first sem Package prediction project \")\n",
        "df"
      ],
      "metadata": {
        "colab": {
          "base_uri": "https://localhost:8080/",
          "height": 133
        },
        "id": "p_LuHVztlYso",
        "outputId": "78ae7924-c95f-4585-9b2d-1a5742ecd8dd"
      },
      "execution_count": 21,
      "outputs": [
        {
          "output_type": "execute_result",
          "data": {
            "text/plain": [
              "Empty DataFrame\n",
              "Columns: [{\"nbformat\":4, nbformat_minor:0, metadata:{\"colab\":{\"provenance\":[{\"file_id\":\"1ULe77okSbacqwLZr8nsNC7oHSVS-yHc5\", timestamp:1732528255129}, {\"file_id\":\"1QT6HKa9LMcVs1fvCCGY77-U50AvIM8lC\", timestamp:1732527693528}, {\"file_id\":\"15aywdaDQuThDVRjNG4dfpK_nd8UVqbfs\", timestamp:1732513995783}]}, kernelspec:{\"name\":\"python3\", display_name:\"Python 3\"}, language_info:{\"name\":\"python\"}}, cells:[{\"cell_type\":\"markdown\", source:[\"#Import library\"], metadata:{\"id\":\"dtlCO4NJ5nUB\"}}, {\"cell_type\":\"code\", source:[\"from google.colab import drive\\n\", drive.mount('/content/drive')], metadata:{\"id\":\"LXbaqz4UukIX\", colab:{\"base_uri\":\"https://localhost:8080/\"}, executionInfo:{\"status\":\"ok\", timestamp:1732529159351, user_tz:-330, elapsed:3815, user:{\"displayName\":\"Aditya Chauhan\", userId:\"16115390946515673501\"}}, outputId:\"dbcfdcf2-2cda-4e95-97b7-e6c9ef53da9d\"}, execution_count:15, outputs:[{\"output_type\":\"stream\", name:\"stdout\", text:[\"Drive already mounted at /content/drive; to attempt to forcibly remount,  call drive.mount(\\\"/content/drive\\\",  force_remount=True).\\n\"]}]}, {\"cell_type\":\"code\".1, execution_count:17, metadata:{\"id\":\"vswUYGlGjcvs\", executionInfo:{\"status\":\"ok\".1, timestamp:1732529164244, user_tz:-330.1, elapsed:493, user:{\"displayName\":\"Aditya Chauhan\".1, userId:\"16115390946515673501\"}}}, outputs:[], source:[\"#import library\\n\", import pandas as pd\\n, import matplotlib.pyplot as plt\\n, import seaborn as sns]}, {\"cell_type\":\"markdown\", source:[\"#Import the data\"], metadata:{\"id\":\"8orYIU3L5sOE\"}}, {\"cell_type\":\"code\".2, source:[\"df = pd.read_csv(\\\" /content/drive/MyDrive/data/first sem Package prediction project\\\")\\n\", df], metadata:{\"colab\":{\"base_uri\":\"https://localhost:8080/\", height:339}, id:\"p_LuHVztlYso\", executionInfo:{\"status\":\"error\", timestamp:1732529177774, user_tz:-330.2, elapsed:9, user:{\"displayName\":\"Aditya Chauhan\".2, userId:\"16115390946515673501\"}}.1, outputId:\"8bb131a3-ba09-4f91-c9c9-3505396f269a\"}, execution_count:19, outputs:[{\"output_type\":\"error\", ename:\"FileNotFoundError\", evalue:\"[Errno 2] No such file or directory: ' /content/drive/MyDrive/data/first sem Package prediction project'\", traceback:[\"\\u001b[0;31m---------------------------------------------------------------------------\\u001b[0m\", \\u001b[0;31mFileNotFoundError\\u001b[0m                         Traceback (most recent call last), \\u001b[0;32m<ipython-input-19-4cccab27faf8>\\u001b[0m in \\u001b[0;36m<cell line: 1>\\u001b[0;34m()\\u001b[0m\\n\\u001b[0;32m----> 1\\u001b[0;31m \\u001b[0mdf\\u001b[0m \\u001b[0;34m=\\u001b[0m \\u001b[0mpd\\u001b[0m\\u001b[0;34m.\\u001b[0m\\u001b[0mread_csv\\u001b[0m\\u001b[0;34m(\\u001b[0m\\u001b[0;34m\\ /content/drive/MyDrive/data/first sem Package prediction project\\\"\\u001b[0m\\u001b[0;34m)\\u001b[0m\\u001b[0;34m\\u001b[0m\\u001b[0;34m\\u001b[0m\\u001b[0m\\n\\u001b[0m\\u001b[1;32m      2\\u001b[0m \\u001b[0mdf\\u001b[0m\\u001b[0;34m\\u001b[0m\\u001b[0;34m\\u001b[0m\\u001b[0m\\n\", \\u001b[0;32m/usr/local/lib/python3.10/dist-packages/pandas/io/parsers/readers.py\\u001b[0m in \\u001b[0;36mread_csv\\u001b[0;34m(filepath_or_buffer, sep, delimiter, header, names, index_col, usecols, dtype, engine, converters, true_values, false_values, skipinitialspace, skiprows, skipfooter, nrows, na_values, keep_default_na, na_filter, verbose, skip_blank_lines, parse_dates, infer_datetime_format, keep_date_col, date_parser, date_format, dayfirst, cache_dates, iterator, chunksize, compression, thousands, decimal, lineterminator, quotechar, quoting, doublequote, escapechar, comment, encoding, encoding_errors, dialect, on_bad_lines, delim_whitespace, low_memory, memory_map, float_precision, storage_options, dtype_backend)\\u001b[0m\\n\\u001b[1;32m   1024\\u001b[0m     \\u001b[0mkwds\\u001b[0m\\u001b[0;34m.\\u001b[0m\\u001b[0mupdate\\u001b[0m\\u001b[0;34m(\\u001b[0m\\u001b[0mkwds_defaults\\u001b[0m\\u001b[0;34m)\\u001b[0m\\u001b[0;34m\\u001b[0m\\u001b[0;34m\\u001b[0m\\u001b[0m\\n\\u001b[1;32m   1025\\u001b[0m \\u001b[0;34m\\u001b[0m\\u001b[0m\\n\\u001b[0;32m-> 1026\\u001b[0;31m     \\u001b[0;32mreturn\\u001b[0m \\u001b[0m_read\\u001b[0m\\u001b[0;34m(\\u001b[0m\\u001b[0mfilepath_or_buffer\\u001b[0m\\u001b[0;34m,\\u001b[0m \\u001b[0mkwds\\u001b[0m\\u001b[0;34m)\\u001b[0m\\u001b[0;34m\\u001b[0m\\u001b[0;34m\\u001b[0m\\u001b[0m\\n\\u001b[0m\\u001b[1;32m   1027\\u001b[0m \\u001b[0;34m\\u001b[0m\\u001b[0m\\n\\u001b[1;32m   1028\\u001b[0m \\u001b[0;34m\\u001b[0m\\u001b[0m\\n, \\u001b[0;32m/usr/local/lib/python3.10/dist-packages/pandas/io/parsers/readers.py\\u001b[0m in \\u001b[0;36m_read\\u001b[0;34m(filepath_or_buffer, kwds)\\u001b[0m\\n\\u001b[1;32m    618\\u001b[0m \\u001b[0;34m\\u001b[0m\\u001b[0m\\n\\u001b[1;32m    619\\u001b[0m     \\u001b[0;31m# Create the parser.\\u001b[0m\\u001b[0;34m\\u001b[0m\\u001b[0;34m\\u001b[0m\\u001b[0m\\n\\u001b[0;32m--> 620\\u001b[0;31m     \\u001b[0mparser\\u001b[0m \\u001b[0;34m=\\u001b[0m \\u001b[0mTextFileReader\\u001b[0m\\u001b[0;34m(\\u001b[0m\\u001b[0mfilepath_or_buffer\\u001b[0m\\u001b[0;34m,\\u001b[0m \\u001b[0;34m**\\u001b[0m\\u001b[0mkwds\\u001b[0m\\u001b[0;34m)\\u001b[0m\\u001b[0;34m\\u001b[0m\\u001b[0;34m\\u001b[0m\\u001b[0m\\n\\u001b[0m\\u001b[1;32m    621\\u001b[0m \\u001b[0;34m\\u001b[0m\\u001b[0m\\n\\u001b[1;32m    622\\u001b[0m     \\u001b[0;32mif\\u001b[0m \\u001b[0mchunksize\\u001b[0m \\u001b[0;32mor\\u001b[0m \\u001b[0miterator\\u001b[0m\\u001b[0;34m:\\u001b[0m\\u001b[0;34m\\u001b[0m\\u001b[0;34m\\u001b[0m\\u001b[0m\\n, \\u001b[0;32m/usr/local/lib/python3.10/dist-packages/pandas/io/parsers/readers.py\\u001b[0m in \\u001b[0;36m__init__\\u001b[0;34m(self, f, engine, **kwds)\\u001b[0m\\n\\u001b[1;32m   1618\\u001b[0m \\u001b[0;34m\\u001b[0m\\u001b[0m\\n\\u001b[1;32m   1619\\u001b[0m         \\u001b[0mself\\u001b[0m\\u001b[0;34m.\\u001b[0m\\u001b[0mhandles\\u001b[0m\\u001b[0;34m:\\u001b[0m \\u001b[0mIOHandles\\u001b[0m \\u001b[0;34m|\\u001b[0m \\u001b[0;32mNone\\u001b[0m \\u001b[0;34m=\\u001b[0m \\u001b[0;32mNone\\u001b[0m\\u001b[0;34m\\u001b[0m\\u001b[0;34m\\u001b[0m\\u001b[0m\\n\\u001b[0;32m-> 1620\\u001b[0;31m         \\u001b[0mself\\u001b[0m\\u001b[0;34m.\\u001b[0m\\u001b[0m_engine\\u001b[0m \\u001b[0;34m=\\u001b[0m \\u001b[0mself\\u001b[0m\\u001b[0;34m.\\u001b[0m\\u001b[0m_make_engine\\u001b[0m\\u001b[0;34m(\\u001b[0m\\u001b[0mf\\u001b[0m\\u001b[0;34m,\\u001b[0m \\u001b[0mself\\u001b[0m\\u001b[0;34m.\\u001b[0m\\u001b[0mengine\\u001b[0m\\u001b[0;34m)\\u001b[0m\\u001b[0;34m\\u001b[0m\\u001b[0;34m\\u001b[0m\\u001b[0m\\n\\u001b[0m\\u001b[1;32m   1621\\u001b[0m \\u001b[0;34m\\u001b[0m\\u001b[0m\\n\\u001b[1;32m   1622\\u001b[0m     \\u001b[0;32mdef\\u001b[0m \\u001b[0mclose\\u001b[0m\\u001b[0;34m(\\u001b[0m\\u001b[0mself\\u001b[0m\\u001b[0;34m)\\u001b[0m \\u001b[0;34m->\\u001b[0m \\u001b[0;32mNone\\u001b[0m\\u001b[0;34m:\\u001b[0m\\u001b[0;34m\\u001b[0m\\u001b[0;34m\\u001b[0m\\u001b[0m\\n, \\u001b[0;32m/usr/local/lib/python3.10/dist-packages/pandas/io/parsers/readers.py\\u001b[0m in \\u001b[0;36m_make_engine\\u001b[0;34m(self, f, engine)\\u001b[0m\\n\\u001b[1;32m   1878\\u001b[0m                 \\u001b[0;32mif\\u001b[0m \\u001b[0;34m\\b\\\"\\u001b[0m \\u001b[0;32mnot\\u001b[0m \\u001b[0;32min\\u001b[0m \\u001b[0mmode\\u001b[0m\\u001b[0;34m:\\u001b[0m\\u001b[0;34m\\u001b[0m\\u001b[0;34m\\u001b[0m\\u001b[0m\\n\\u001b[1;32m   1879\\u001b[0m                     \\u001b[0mmode\\u001b[0m \\u001b[0;34m+=\\u001b[0m \\u001b[0;34m\\\"b\\\"\\u001b[0m\\u001b[0;34m\\u001b[0m\\u001b[0;34m\\u001b[0m\\u001b[0m\\n\\u001b[0;32m-> 1880\\u001b[0;31m             self.handles = get_handle(\\n\\u001b[0m\\u001b[1;32m   1881\\u001b[0m                 \\u001b[0mf\\u001b[0m\\u001b[0;34m, \\u001b[0m\\u001b[0;34m\\u001b[0m\\u001b[0;34m\\u001b[0m\\u001b[0m\\n\\u001b[1;32m   1882\\u001b[0m                 \\u001b[0mmode\\u001b[0m\\u001b[0;34m, \\u001b[0m\\u001b[0;34m\\u001b[0m\\u001b[0;34m\\u001b[0m\\u001b[0m\\n\", \\u001b[0;32m/usr/local/lib/python3.10/dist-packages/pandas/io/common.py\\u001b[0m in \\u001b[0;36mget_handle\\u001b[0;34m(path_or_buf, mode, encoding, compression, memory_map, is_text, errors, storage_options)\\u001b[0m\\n\\u001b[1;32m    871\\u001b[0m         \\u001b[0;32mif\\u001b[0m \\u001b[0mioargs\\u001b[0m\\u001b[0;34m.\\u001b[0m\\u001b[0mencoding\\u001b[0m \\u001b[0;32mand\\u001b[0m \\u001b[0;34m\\b\\\"\\u001b[0m \\u001b[0;32mnot\\u001b[0m \\u001b[0;32min\\u001b[0m \\u001b[0mioargs\\u001b[0m\\u001b[0;34m.\\u001b[0m\\u001b[0mmode\\u001b[0m\\u001b[0;34m:\\u001b[0m\\u001b[0;34m\\u001b[0m\\u001b[0;34m\\u001b[0m\\u001b[0m\\n\\u001b[1;32m    872\\u001b[0m             \\u001b[0;31m# Encoding\\u001b[0m\\u001b[0;34m\\u001b[0m\\u001b[0;34m\\u001b[0m\\u001b[0m\\n\\u001b[0;32m--> 873\\u001b[0;31m             handle = open(\\n\\u001b[0m\\u001b[1;32m    874\\u001b[0m                 \\u001b[0mhandle\\u001b[0m\\u001b[0;34m, \\u001b[0m\\u001b[0;34m\\u001b[0m\\u001b[0;34m\\u001b[0m\\u001b[0m\\n\\u001b[1;32m    875\\u001b[0m                 \\u001b[0mioargs\\u001b[0m\\u001b[0;34m.\\u001b[0m\\u001b[0mmode\\u001b[0m\\u001b[0;34m, \\u001b[0m\\u001b[0;34m\\u001b[0m\\u001b[0;34m\\u001b[0m\\u001b[0m\\n\".1, \\u001b[0;31mFileNotFoundError\\u001b[0m: [Errno 2] No such file or directory: ' /content/drive/MyDrive/data/first sem Package prediction project']}]}, {\"cell_type\":\"markdown\".1, source:[\"#Data analysis\"], metadata:{\"id\":\"xwp1wukL5wdd\"}}, {\"cell_type\":\"code\".3, source:[\"#data analysis\\n\", df.info()], metadata:{\"id\":\"VgIWoW23qrQv\", executionInfo:{\"status\":\"aborted\", timestamp:1732529144052, user_tz:-330.3, elapsed:24, user:{\"displayName\":\"Aditya Chauhan\".3, userId:\"16115390946515673501\"}}}.1, execution_count:null, outputs:[]}, {\"cell_type\":\"code\".4, source:[\"#find the null value\\n\", df.isnull().sum()], metadata:{\"id\":\"GB8Yx8DaqwDB\", executionInfo:{\"status\":\"aborted\".1, timestamp:1732529144052.1, ...]\n",
              "Index: []\n",
              "\n",
              "[0 rows x 335 columns]"
            ],
            "text/html": [
              "\n",
              "  <div id=\"df-30115fe7-5c60-49f9-ac90-3a3ce7ca0427\" class=\"colab-df-container\">\n",
              "    <div>\n",
              "<style scoped>\n",
              "    .dataframe tbody tr th:only-of-type {\n",
              "        vertical-align: middle;\n",
              "    }\n",
              "\n",
              "    .dataframe tbody tr th {\n",
              "        vertical-align: top;\n",
              "    }\n",
              "\n",
              "    .dataframe thead th {\n",
              "        text-align: right;\n",
              "    }\n",
              "</style>\n",
              "<table border=\"1\" class=\"dataframe\">\n",
              "  <thead>\n",
              "    <tr style=\"text-align: right;\">\n",
              "      <th></th>\n",
              "      <th>{\"nbformat\":4</th>\n",
              "      <th>nbformat_minor:0</th>\n",
              "      <th>metadata:{\"colab\":{\"provenance\":[{\"file_id\":\"1ULe77okSbacqwLZr8nsNC7oHSVS-yHc5\"</th>\n",
              "      <th>timestamp:1732528255129}</th>\n",
              "      <th>{\"file_id\":\"1QT6HKa9LMcVs1fvCCGY77-U50AvIM8lC\"</th>\n",
              "      <th>timestamp:1732527693528}</th>\n",
              "      <th>{\"file_id\":\"15aywdaDQuThDVRjNG4dfpK_nd8UVqbfs\"</th>\n",
              "      <th>timestamp:1732513995783}]}</th>\n",
              "      <th>kernelspec:{\"name\":\"python3\"</th>\n",
              "      <th>display_name:\"Python 3\"}</th>\n",
              "      <th>...</th>\n",
              "      <th>print(mean_squared_error(y_test, y_pred))]</th>\n",
              "      <th>metadata:{\"id\":\"6K0ScR0Q5but\"</th>\n",
              "      <th>executionInfo:{\"status\":\"aborted\".16</th>\n",
              "      <th>timestamp:1732529144055.3</th>\n",
              "      <th>user_tz:-330.19</th>\n",
              "      <th>elapsed:22.1</th>\n",
              "      <th>user:{\"displayName\":\"Aditya Chauhan\".19</th>\n",
              "      <th>userId:\"16115390946515673501\"}}}.17</th>\n",
              "      <th>execution_count:null.16</th>\n",
              "      <th>outputs:[]}]}</th>\n",
              "    </tr>\n",
              "  </thead>\n",
              "  <tbody>\n",
              "  </tbody>\n",
              "</table>\n",
              "<p>0 rows × 335 columns</p>\n",
              "</div>\n",
              "    <div class=\"colab-df-buttons\">\n",
              "\n",
              "  <div class=\"colab-df-container\">\n",
              "    <button class=\"colab-df-convert\" onclick=\"convertToInteractive('df-30115fe7-5c60-49f9-ac90-3a3ce7ca0427')\"\n",
              "            title=\"Convert this dataframe to an interactive table.\"\n",
              "            style=\"display:none;\">\n",
              "\n",
              "  <svg xmlns=\"http://www.w3.org/2000/svg\" height=\"24px\" viewBox=\"0 -960 960 960\">\n",
              "    <path d=\"M120-120v-720h720v720H120Zm60-500h600v-160H180v160Zm220 220h160v-160H400v160Zm0 220h160v-160H400v160ZM180-400h160v-160H180v160Zm440 0h160v-160H620v160ZM180-180h160v-160H180v160Zm440 0h160v-160H620v160Z\"/>\n",
              "  </svg>\n",
              "    </button>\n",
              "\n",
              "  <style>\n",
              "    .colab-df-container {\n",
              "      display:flex;\n",
              "      gap: 12px;\n",
              "    }\n",
              "\n",
              "    .colab-df-convert {\n",
              "      background-color: #E8F0FE;\n",
              "      border: none;\n",
              "      border-radius: 50%;\n",
              "      cursor: pointer;\n",
              "      display: none;\n",
              "      fill: #1967D2;\n",
              "      height: 32px;\n",
              "      padding: 0 0 0 0;\n",
              "      width: 32px;\n",
              "    }\n",
              "\n",
              "    .colab-df-convert:hover {\n",
              "      background-color: #E2EBFA;\n",
              "      box-shadow: 0px 1px 2px rgba(60, 64, 67, 0.3), 0px 1px 3px 1px rgba(60, 64, 67, 0.15);\n",
              "      fill: #174EA6;\n",
              "    }\n",
              "\n",
              "    .colab-df-buttons div {\n",
              "      margin-bottom: 4px;\n",
              "    }\n",
              "\n",
              "    [theme=dark] .colab-df-convert {\n",
              "      background-color: #3B4455;\n",
              "      fill: #D2E3FC;\n",
              "    }\n",
              "\n",
              "    [theme=dark] .colab-df-convert:hover {\n",
              "      background-color: #434B5C;\n",
              "      box-shadow: 0px 1px 3px 1px rgba(0, 0, 0, 0.15);\n",
              "      filter: drop-shadow(0px 1px 2px rgba(0, 0, 0, 0.3));\n",
              "      fill: #FFFFFF;\n",
              "    }\n",
              "  </style>\n",
              "\n",
              "    <script>\n",
              "      const buttonEl =\n",
              "        document.querySelector('#df-30115fe7-5c60-49f9-ac90-3a3ce7ca0427 button.colab-df-convert');\n",
              "      buttonEl.style.display =\n",
              "        google.colab.kernel.accessAllowed ? 'block' : 'none';\n",
              "\n",
              "      async function convertToInteractive(key) {\n",
              "        const element = document.querySelector('#df-30115fe7-5c60-49f9-ac90-3a3ce7ca0427');\n",
              "        const dataTable =\n",
              "          await google.colab.kernel.invokeFunction('convertToInteractive',\n",
              "                                                    [key], {});\n",
              "        if (!dataTable) return;\n",
              "\n",
              "        const docLinkHtml = 'Like what you see? Visit the ' +\n",
              "          '<a target=\"_blank\" href=https://colab.research.google.com/notebooks/data_table.ipynb>data table notebook</a>'\n",
              "          + ' to learn more about interactive tables.';\n",
              "        element.innerHTML = '';\n",
              "        dataTable['output_type'] = 'display_data';\n",
              "        await google.colab.output.renderOutput(dataTable, element);\n",
              "        const docLink = document.createElement('div');\n",
              "        docLink.innerHTML = docLinkHtml;\n",
              "        element.appendChild(docLink);\n",
              "      }\n",
              "    </script>\n",
              "  </div>\n",
              "\n",
              "\n",
              "  <div id=\"id_99c37f30-bd6e-4297-82fe-2f9d8ca8a71d\">\n",
              "    <style>\n",
              "      .colab-df-generate {\n",
              "        background-color: #E8F0FE;\n",
              "        border: none;\n",
              "        border-radius: 50%;\n",
              "        cursor: pointer;\n",
              "        display: none;\n",
              "        fill: #1967D2;\n",
              "        height: 32px;\n",
              "        padding: 0 0 0 0;\n",
              "        width: 32px;\n",
              "      }\n",
              "\n",
              "      .colab-df-generate:hover {\n",
              "        background-color: #E2EBFA;\n",
              "        box-shadow: 0px 1px 2px rgba(60, 64, 67, 0.3), 0px 1px 3px 1px rgba(60, 64, 67, 0.15);\n",
              "        fill: #174EA6;\n",
              "      }\n",
              "\n",
              "      [theme=dark] .colab-df-generate {\n",
              "        background-color: #3B4455;\n",
              "        fill: #D2E3FC;\n",
              "      }\n",
              "\n",
              "      [theme=dark] .colab-df-generate:hover {\n",
              "        background-color: #434B5C;\n",
              "        box-shadow: 0px 1px 3px 1px rgba(0, 0, 0, 0.15);\n",
              "        filter: drop-shadow(0px 1px 2px rgba(0, 0, 0, 0.3));\n",
              "        fill: #FFFFFF;\n",
              "      }\n",
              "    </style>\n",
              "    <button class=\"colab-df-generate\" onclick=\"generateWithVariable('df')\"\n",
              "            title=\"Generate code using this dataframe.\"\n",
              "            style=\"display:none;\">\n",
              "\n",
              "  <svg xmlns=\"http://www.w3.org/2000/svg\" height=\"24px\"viewBox=\"0 0 24 24\"\n",
              "       width=\"24px\">\n",
              "    <path d=\"M7,19H8.4L18.45,9,17,7.55,7,17.6ZM5,21V16.75L18.45,3.32a2,2,0,0,1,2.83,0l1.4,1.43a1.91,1.91,0,0,1,.58,1.4,1.91,1.91,0,0,1-.58,1.4L9.25,21ZM18.45,9,17,7.55Zm-12,3A5.31,5.31,0,0,0,4.9,8.1,5.31,5.31,0,0,0,1,6.5,5.31,5.31,0,0,0,4.9,4.9,5.31,5.31,0,0,0,6.5,1,5.31,5.31,0,0,0,8.1,4.9,5.31,5.31,0,0,0,12,6.5,5.46,5.46,0,0,0,6.5,12Z\"/>\n",
              "  </svg>\n",
              "    </button>\n",
              "    <script>\n",
              "      (() => {\n",
              "      const buttonEl =\n",
              "        document.querySelector('#id_99c37f30-bd6e-4297-82fe-2f9d8ca8a71d button.colab-df-generate');\n",
              "      buttonEl.style.display =\n",
              "        google.colab.kernel.accessAllowed ? 'block' : 'none';\n",
              "\n",
              "      buttonEl.onclick = () => {\n",
              "        google.colab.notebook.generateWithVariable('df');\n",
              "      }\n",
              "      })();\n",
              "    </script>\n",
              "  </div>\n",
              "\n",
              "    </div>\n",
              "  </div>\n"
            ],
            "application/vnd.google.colaboratory.intrinsic+json": {
              "type": "dataframe",
              "variable_name": "df"
            }
          },
          "metadata": {},
          "execution_count": 21
        }
      ]
    },
    {
      "cell_type": "markdown",
      "source": [
        "#Data analysis"
      ],
      "metadata": {
        "id": "xwp1wukL5wdd"
      }
    },
    {
      "cell_type": "code",
      "source": [
        "#data analysis\n",
        "df.info()"
      ],
      "metadata": {
        "id": "VgIWoW23qrQv"
      },
      "execution_count": null,
      "outputs": []
    },
    {
      "cell_type": "code",
      "source": [
        "#find the null value\n",
        "df.isnull().sum()"
      ],
      "metadata": {
        "id": "GB8Yx8DaqwDB"
      },
      "execution_count": null,
      "outputs": []
    },
    {
      "cell_type": "code",
      "source": [
        "#how does the data looklike mathematically\n",
        "df.describe()"
      ],
      "metadata": {
        "id": "8WcySsIVq5v0"
      },
      "execution_count": null,
      "outputs": []
    },
    {
      "cell_type": "code",
      "source": [
        "#find the number of rows and column\n",
        "df.shape"
      ],
      "metadata": {
        "id": "gbCE_Jo9rEBc"
      },
      "execution_count": null,
      "outputs": []
    },
    {
      "cell_type": "markdown",
      "source": [
        "#Data visualization"
      ],
      "metadata": {
        "id": "523BJBzk51Cb"
      }
    },
    {
      "cell_type": "code",
      "source": [
        "#plot the data\n",
        "plt.scatter(df[\"cgpa\"], df[\"package\"])\n",
        "plt.xlabel(\"CGPA\")\n",
        "plt.ylabel(\"PACKAGE\")\n",
        "plt.show()"
      ],
      "metadata": {
        "id": "HWxfnY9ajda2"
      },
      "execution_count": null,
      "outputs": []
    },
    {
      "cell_type": "markdown",
      "source": [
        "#Independent and dependent feature"
      ],
      "metadata": {
        "id": "ZOC6JvVC55U8"
      }
    },
    {
      "cell_type": "code",
      "source": [
        "#find the independent and dependent feature\n",
        "x = df.iloc[:, 0]  #independent feature\n",
        "y = df.iloc[:, 1] #dependent feature\n",
        "x"
      ],
      "metadata": {
        "id": "VUa9NZCKigsq"
      },
      "execution_count": null,
      "outputs": []
    },
    {
      "cell_type": "code",
      "source": [
        "y"
      ],
      "metadata": {
        "id": "WmJtClP_jE4z"
      },
      "execution_count": null,
      "outputs": []
    },
    {
      "cell_type": "markdown",
      "source": [
        "#split the data into train and test"
      ],
      "metadata": {
        "id": "FfLocMTu6Azc"
      }
    },
    {
      "cell_type": "code",
      "source": [
        "#split the data into train and test\n",
        "from sklearn.model_selection import train_test_split\n",
        "x_train, x_test, y_train, y_test = train_test_split(x, y,\n",
        "                          test_size = 0.2, random_state = 42)\n",
        "x_train"
      ],
      "metadata": {
        "id": "gfWulUh1jHKy"
      },
      "execution_count": null,
      "outputs": []
    },
    {
      "cell_type": "markdown",
      "source": [
        "#Import and train the model"
      ],
      "metadata": {
        "id": "uKe0GyCO6IJ4"
      }
    },
    {
      "cell_type": "code",
      "source": [
        "#import the model and training\n",
        "from sklearn.linear_model import LinearRegression\n",
        "model = LinearRegression()"
      ],
      "metadata": {
        "id": "FeQ8tzO9mWGF"
      },
      "execution_count": null,
      "outputs": []
    },
    {
      "cell_type": "code",
      "source": [
        "model.fit(x_train.values.reshape(-1, 1), y_train)"
      ],
      "metadata": {
        "id": "QqUmCGB0mzzM"
      },
      "execution_count": null,
      "outputs": []
    },
    {
      "cell_type": "markdown",
      "source": [
        "#coefficient and intercept"
      ],
      "metadata": {
        "id": "itxl39gW6Pc9"
      }
    },
    {
      "cell_type": "code",
      "source": [
        "m = model.coef_\n",
        "c = model.intercept_\n",
        "print(m, c)"
      ],
      "metadata": {
        "id": "AbzxS-LlnVum"
      },
      "execution_count": null,
      "outputs": []
    },
    {
      "cell_type": "markdown",
      "source": [],
      "metadata": {
        "id": "1W3gUEEE6OKd"
      }
    },
    {
      "cell_type": "markdown",
      "source": [
        "#Find the package"
      ],
      "metadata": {
        "id": "UYJ1yCgy6W1u"
      }
    },
    {
      "cell_type": "code",
      "source": [
        "cgpa = 9.5\n",
        "package = m*cgpa +c\n",
        "print(package)"
      ],
      "metadata": {
        "id": "OPSqX2_annVG"
      },
      "execution_count": null,
      "outputs": []
    },
    {
      "cell_type": "markdown",
      "source": [
        "#prediction the model"
      ],
      "metadata": {
        "id": "lPsBLoSF6b6-"
      }
    },
    {
      "cell_type": "code",
      "source": [
        "#prediction the model\n",
        "y_pred = model.predict(x_test.values.reshape(-1, 1))\n",
        "y_pred, y_test"
      ],
      "metadata": {
        "id": "mKDLNuUJorow"
      },
      "execution_count": null,
      "outputs": []
    },
    {
      "cell_type": "code",
      "source": [
        "import seaborn as sns"
      ],
      "metadata": {
        "id": "7YnrLhRv5ACx"
      },
      "execution_count": null,
      "outputs": []
    },
    {
      "cell_type": "markdown",
      "source": [
        "#Create best fit line"
      ],
      "metadata": {
        "id": "-83BQarI6j1D"
      }
    },
    {
      "cell_type": "code",
      "source": [
        "sns.scatterplot(x = df[\"cgpa\"], y = df[\"package\"])\n",
        "plt.plot(x_test, y_pred, color = \"red\")\n",
        "plt.xlabel(\"CGPA\")\n",
        "plt.ylabel(\"PACKAGE\")\n",
        "plt.show()"
      ],
      "metadata": {
        "id": "AuYMcTRv4wNS"
      },
      "execution_count": null,
      "outputs": []
    },
    {
      "cell_type": "markdown",
      "source": [
        "#Performance of the model"
      ],
      "metadata": {
        "id": "GYs0mY416pNz"
      }
    },
    {
      "cell_type": "code",
      "source": [
        "from sklearn.metrics import r2_score\n",
        "print(r2_score(y_test, y_pred))"
      ],
      "metadata": {
        "id": "C7N9ZAWF5QOW"
      },
      "execution_count": null,
      "outputs": []
    },
    {
      "cell_type": "markdown",
      "source": [
        "#Error of the model"
      ],
      "metadata": {
        "id": "D4jEznVJ6u3f"
      }
    },
    {
      "cell_type": "code",
      "source": [
        "from sklearn.metrics import mean_squared_error\n",
        "print(mean_squared_error(y_test, y_pred))"
      ],
      "metadata": {
        "id": "6K0ScR0Q5but"
      },
      "execution_count": null,
      "outputs": []
    }
  ]
}